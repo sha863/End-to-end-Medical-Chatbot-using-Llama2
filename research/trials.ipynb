{
 "cells": [
  {
   "cell_type": "code",
   "execution_count": 1,
   "metadata": {},
   "outputs": [
    {
     "name": "stdout",
     "output_type": "stream",
     "text": [
      "Requirement already satisfied: ipykernel in /home/shashank/anaconda3/envs/mchatbot/lib/python3.8/site-packages (6.29.4)\n",
      "Requirement already satisfied: comm>=0.1.1 in /home/shashank/anaconda3/envs/mchatbot/lib/python3.8/site-packages (from ipykernel) (0.2.2)\n",
      "Requirement already satisfied: debugpy>=1.6.5 in /home/shashank/anaconda3/envs/mchatbot/lib/python3.8/site-packages (from ipykernel) (1.8.1)\n",
      "Requirement already satisfied: ipython>=7.23.1 in /home/shashank/anaconda3/envs/mchatbot/lib/python3.8/site-packages (from ipykernel) (8.12.3)\n",
      "Requirement already satisfied: jupyter-client>=6.1.12 in /home/shashank/anaconda3/envs/mchatbot/lib/python3.8/site-packages (from ipykernel) (8.6.2)\n",
      "Requirement already satisfied: jupyter-core!=5.0.*,>=4.12 in /home/shashank/anaconda3/envs/mchatbot/lib/python3.8/site-packages (from ipykernel) (5.7.2)\n",
      "Requirement already satisfied: matplotlib-inline>=0.1 in /home/shashank/anaconda3/envs/mchatbot/lib/python3.8/site-packages (from ipykernel) (0.1.7)\n",
      "Requirement already satisfied: nest-asyncio in /home/shashank/anaconda3/envs/mchatbot/lib/python3.8/site-packages (from ipykernel) (1.6.0)\n",
      "Requirement already satisfied: packaging in /home/shashank/anaconda3/envs/mchatbot/lib/python3.8/site-packages (from ipykernel) (24.1)\n",
      "Requirement already satisfied: psutil in /home/shashank/anaconda3/envs/mchatbot/lib/python3.8/site-packages (from ipykernel) (6.0.0)\n",
      "Requirement already satisfied: pyzmq>=24 in /home/shashank/anaconda3/envs/mchatbot/lib/python3.8/site-packages (from ipykernel) (26.0.3)\n",
      "Requirement already satisfied: tornado>=6.1 in /home/shashank/anaconda3/envs/mchatbot/lib/python3.8/site-packages (from ipykernel) (6.4.1)\n",
      "Requirement already satisfied: traitlets>=5.4.0 in /home/shashank/anaconda3/envs/mchatbot/lib/python3.8/site-packages (from ipykernel) (5.14.3)\n",
      "Requirement already satisfied: backcall in /home/shashank/anaconda3/envs/mchatbot/lib/python3.8/site-packages (from ipython>=7.23.1->ipykernel) (0.2.0)\n",
      "Requirement already satisfied: decorator in /home/shashank/anaconda3/envs/mchatbot/lib/python3.8/site-packages (from ipython>=7.23.1->ipykernel) (5.1.1)\n",
      "Requirement already satisfied: jedi>=0.16 in /home/shashank/anaconda3/envs/mchatbot/lib/python3.8/site-packages (from ipython>=7.23.1->ipykernel) (0.19.1)\n",
      "Requirement already satisfied: pickleshare in /home/shashank/anaconda3/envs/mchatbot/lib/python3.8/site-packages (from ipython>=7.23.1->ipykernel) (0.7.5)\n",
      "Requirement already satisfied: prompt-toolkit!=3.0.37,<3.1.0,>=3.0.30 in /home/shashank/anaconda3/envs/mchatbot/lib/python3.8/site-packages (from ipython>=7.23.1->ipykernel) (3.0.47)\n",
      "Requirement already satisfied: pygments>=2.4.0 in /home/shashank/anaconda3/envs/mchatbot/lib/python3.8/site-packages (from ipython>=7.23.1->ipykernel) (2.18.0)\n",
      "Requirement already satisfied: stack-data in /home/shashank/anaconda3/envs/mchatbot/lib/python3.8/site-packages (from ipython>=7.23.1->ipykernel) (0.6.3)\n",
      "Requirement already satisfied: typing-extensions in /home/shashank/anaconda3/envs/mchatbot/lib/python3.8/site-packages (from ipython>=7.23.1->ipykernel) (4.12.2)\n",
      "Requirement already satisfied: pexpect>4.3 in /home/shashank/anaconda3/envs/mchatbot/lib/python3.8/site-packages (from ipython>=7.23.1->ipykernel) (4.9.0)\n",
      "Requirement already satisfied: importlib-metadata>=4.8.3 in /home/shashank/anaconda3/envs/mchatbot/lib/python3.8/site-packages (from jupyter-client>=6.1.12->ipykernel) (7.2.0)\n",
      "Requirement already satisfied: python-dateutil>=2.8.2 in /home/shashank/anaconda3/envs/mchatbot/lib/python3.8/site-packages (from jupyter-client>=6.1.12->ipykernel) (2.9.0.post0)\n",
      "Requirement already satisfied: platformdirs>=2.5 in /home/shashank/anaconda3/envs/mchatbot/lib/python3.8/site-packages (from jupyter-core!=5.0.*,>=4.12->ipykernel) (4.2.2)\n",
      "Requirement already satisfied: zipp>=0.5 in /home/shashank/anaconda3/envs/mchatbot/lib/python3.8/site-packages (from importlib-metadata>=4.8.3->jupyter-client>=6.1.12->ipykernel) (3.19.2)\n",
      "Requirement already satisfied: parso<0.9.0,>=0.8.3 in /home/shashank/anaconda3/envs/mchatbot/lib/python3.8/site-packages (from jedi>=0.16->ipython>=7.23.1->ipykernel) (0.8.4)\n",
      "Requirement already satisfied: ptyprocess>=0.5 in /home/shashank/anaconda3/envs/mchatbot/lib/python3.8/site-packages (from pexpect>4.3->ipython>=7.23.1->ipykernel) (0.7.0)\n",
      "Requirement already satisfied: wcwidth in /home/shashank/anaconda3/envs/mchatbot/lib/python3.8/site-packages (from prompt-toolkit!=3.0.37,<3.1.0,>=3.0.30->ipython>=7.23.1->ipykernel) (0.2.13)\n",
      "Requirement already satisfied: six>=1.5 in /home/shashank/anaconda3/envs/mchatbot/lib/python3.8/site-packages (from python-dateutil>=2.8.2->jupyter-client>=6.1.12->ipykernel) (1.16.0)\n",
      "Requirement already satisfied: executing>=1.2.0 in /home/shashank/anaconda3/envs/mchatbot/lib/python3.8/site-packages (from stack-data->ipython>=7.23.1->ipykernel) (2.0.1)\n",
      "Requirement already satisfied: asttokens>=2.1.0 in /home/shashank/anaconda3/envs/mchatbot/lib/python3.8/site-packages (from stack-data->ipython>=7.23.1->ipykernel) (2.4.1)\n",
      "Requirement already satisfied: pure-eval in /home/shashank/anaconda3/envs/mchatbot/lib/python3.8/site-packages (from stack-data->ipython>=7.23.1->ipykernel) (0.2.2)\n",
      "Note: you may need to restart the kernel to use updated packages.\n"
     ]
    }
   ],
   "source": [
    "#pip install -U ipykernel\n"
   ]
  },
  {
   "cell_type": "code",
   "execution_count": 2,
   "metadata": {},
   "outputs": [
    {
     "name": "stdout",
     "output_type": "stream",
     "text": [
      "OK!\n"
     ]
    }
   ],
   "source": [
    "print(\"OK!\")"
   ]
  },
  {
   "cell_type": "code",
   "execution_count": 3,
   "metadata": {},
   "outputs": [
    {
     "name": "stdout",
     "output_type": "stream",
     "text": [
      "Requirement already satisfied: pinecone-client in /home/shashank/anaconda3/envs/mchatbot/lib/python3.8/site-packages (4.1.1)\n",
      "Requirement already satisfied: certifi>=2019.11.17 in /home/shashank/anaconda3/envs/mchatbot/lib/python3.8/site-packages (from pinecone-client) (2024.6.2)\n",
      "Requirement already satisfied: pinecone-plugin-interface<0.0.8,>=0.0.7 in /home/shashank/anaconda3/envs/mchatbot/lib/python3.8/site-packages (from pinecone-client) (0.0.7)\n",
      "Requirement already satisfied: tqdm>=4.64.1 in /home/shashank/anaconda3/envs/mchatbot/lib/python3.8/site-packages (from pinecone-client) (4.66.4)\n",
      "Requirement already satisfied: typing-extensions>=3.7.4 in /home/shashank/anaconda3/envs/mchatbot/lib/python3.8/site-packages (from pinecone-client) (4.12.2)\n",
      "Requirement already satisfied: urllib3>=1.26.0 in /home/shashank/anaconda3/envs/mchatbot/lib/python3.8/site-packages (from pinecone-client) (2.2.2)\n",
      "Note: you may need to restart the kernel to use updated packages.\n"
     ]
    }
   ],
   "source": [
    "#pip install pinecone-client\n"
   ]
  },
  {
   "cell_type": "code",
   "execution_count": 4,
   "metadata": {},
   "outputs": [
    {
     "name": "stdout",
     "output_type": "stream",
     "text": [
      "Requirement already satisfied: langchain in /home/shashank/anaconda3/envs/mchatbot/lib/python3.8/site-packages (0.0.225)\n",
      "Requirement already satisfied: PyYAML>=5.4.1 in /home/shashank/anaconda3/envs/mchatbot/lib/python3.8/site-packages (from langchain) (6.0.1)\n",
      "Requirement already satisfied: SQLAlchemy<3,>=1.4 in /home/shashank/anaconda3/envs/mchatbot/lib/python3.8/site-packages (from langchain) (2.0.31)\n",
      "Requirement already satisfied: aiohttp<4.0.0,>=3.8.3 in /home/shashank/anaconda3/envs/mchatbot/lib/python3.8/site-packages (from langchain) (3.9.5)\n",
      "Requirement already satisfied: async-timeout<5.0.0,>=4.0.0 in /home/shashank/anaconda3/envs/mchatbot/lib/python3.8/site-packages (from langchain) (4.0.3)\n",
      "Requirement already satisfied: dataclasses-json<0.6.0,>=0.5.7 in /home/shashank/anaconda3/envs/mchatbot/lib/python3.8/site-packages (from langchain) (0.5.14)\n",
      "Requirement already satisfied: langchainplus-sdk<0.0.21,>=0.0.20 in /home/shashank/anaconda3/envs/mchatbot/lib/python3.8/site-packages (from langchain) (0.0.20)\n",
      "Requirement already satisfied: numexpr<3.0.0,>=2.8.4 in /home/shashank/anaconda3/envs/mchatbot/lib/python3.8/site-packages (from langchain) (2.8.6)\n",
      "Requirement already satisfied: numpy<2,>=1 in /home/shashank/anaconda3/envs/mchatbot/lib/python3.8/site-packages (from langchain) (1.24.4)\n",
      "Requirement already satisfied: openapi-schema-pydantic<2.0,>=1.2 in /home/shashank/anaconda3/envs/mchatbot/lib/python3.8/site-packages (from langchain) (1.2.4)\n",
      "Requirement already satisfied: pydantic<2,>=1 in /home/shashank/anaconda3/envs/mchatbot/lib/python3.8/site-packages (from langchain) (1.10.17)\n",
      "Requirement already satisfied: requests<3,>=2 in /home/shashank/anaconda3/envs/mchatbot/lib/python3.8/site-packages (from langchain) (2.32.3)\n",
      "Requirement already satisfied: tenacity<9.0.0,>=8.1.0 in /home/shashank/anaconda3/envs/mchatbot/lib/python3.8/site-packages (from langchain) (8.4.1)\n",
      "Requirement already satisfied: aiosignal>=1.1.2 in /home/shashank/anaconda3/envs/mchatbot/lib/python3.8/site-packages (from aiohttp<4.0.0,>=3.8.3->langchain) (1.3.1)\n",
      "Requirement already satisfied: attrs>=17.3.0 in /home/shashank/anaconda3/envs/mchatbot/lib/python3.8/site-packages (from aiohttp<4.0.0,>=3.8.3->langchain) (23.2.0)\n",
      "Requirement already satisfied: frozenlist>=1.1.1 in /home/shashank/anaconda3/envs/mchatbot/lib/python3.8/site-packages (from aiohttp<4.0.0,>=3.8.3->langchain) (1.4.1)\n",
      "Requirement already satisfied: multidict<7.0,>=4.5 in /home/shashank/anaconda3/envs/mchatbot/lib/python3.8/site-packages (from aiohttp<4.0.0,>=3.8.3->langchain) (6.0.5)\n",
      "Requirement already satisfied: yarl<2.0,>=1.0 in /home/shashank/anaconda3/envs/mchatbot/lib/python3.8/site-packages (from aiohttp<4.0.0,>=3.8.3->langchain) (1.9.4)\n",
      "Requirement already satisfied: marshmallow<4.0.0,>=3.18.0 in /home/shashank/anaconda3/envs/mchatbot/lib/python3.8/site-packages (from dataclasses-json<0.6.0,>=0.5.7->langchain) (3.21.3)\n",
      "Requirement already satisfied: typing-inspect<1,>=0.4.0 in /home/shashank/anaconda3/envs/mchatbot/lib/python3.8/site-packages (from dataclasses-json<0.6.0,>=0.5.7->langchain) (0.9.0)\n",
      "Requirement already satisfied: typing-extensions>=4.2.0 in /home/shashank/anaconda3/envs/mchatbot/lib/python3.8/site-packages (from pydantic<2,>=1->langchain) (4.12.2)\n",
      "Requirement already satisfied: charset-normalizer<4,>=2 in /home/shashank/anaconda3/envs/mchatbot/lib/python3.8/site-packages (from requests<3,>=2->langchain) (3.3.2)\n",
      "Requirement already satisfied: idna<4,>=2.5 in /home/shashank/anaconda3/envs/mchatbot/lib/python3.8/site-packages (from requests<3,>=2->langchain) (3.7)\n",
      "Requirement already satisfied: urllib3<3,>=1.21.1 in /home/shashank/anaconda3/envs/mchatbot/lib/python3.8/site-packages (from requests<3,>=2->langchain) (2.2.2)\n",
      "Requirement already satisfied: certifi>=2017.4.17 in /home/shashank/anaconda3/envs/mchatbot/lib/python3.8/site-packages (from requests<3,>=2->langchain) (2024.6.2)\n",
      "Requirement already satisfied: greenlet!=0.4.17 in /home/shashank/anaconda3/envs/mchatbot/lib/python3.8/site-packages (from SQLAlchemy<3,>=1.4->langchain) (3.0.3)\n",
      "Requirement already satisfied: packaging>=17.0 in /home/shashank/anaconda3/envs/mchatbot/lib/python3.8/site-packages (from marshmallow<4.0.0,>=3.18.0->dataclasses-json<0.6.0,>=0.5.7->langchain) (24.1)\n",
      "Requirement already satisfied: mypy-extensions>=0.3.0 in /home/shashank/anaconda3/envs/mchatbot/lib/python3.8/site-packages (from typing-inspect<1,>=0.4.0->dataclasses-json<0.6.0,>=0.5.7->langchain) (1.0.0)\n",
      "Note: you may need to restart the kernel to use updated packages.\n"
     ]
    }
   ],
   "source": [
    "#pip install langchain"
   ]
  },
  {
   "cell_type": "code",
   "execution_count": 5,
   "metadata": {},
   "outputs": [
    {
     "name": "stdout",
     "output_type": "stream",
     "text": [
      "Collecting langchain-community\n",
      "  Downloading langchain_community-0.2.5-py3-none-any.whl.metadata (2.5 kB)\n",
      "Requirement already satisfied: PyYAML>=5.3 in /home/shashank/anaconda3/envs/mchatbot/lib/python3.8/site-packages (from langchain-community) (6.0.1)\n",
      "Requirement already satisfied: SQLAlchemy<3,>=1.4 in /home/shashank/anaconda3/envs/mchatbot/lib/python3.8/site-packages (from langchain-community) (2.0.31)\n",
      "Requirement already satisfied: aiohttp<4.0.0,>=3.8.3 in /home/shashank/anaconda3/envs/mchatbot/lib/python3.8/site-packages (from langchain-community) (3.9.5)\n",
      "Requirement already satisfied: dataclasses-json<0.7,>=0.5.7 in /home/shashank/anaconda3/envs/mchatbot/lib/python3.8/site-packages (from langchain-community) (0.5.14)\n",
      "Collecting langchain<0.3.0,>=0.2.5 (from langchain-community)\n",
      "  Downloading langchain-0.2.5-py3-none-any.whl.metadata (7.0 kB)\n",
      "Collecting langchain-core<0.3.0,>=0.2.7 (from langchain-community)\n",
      "  Downloading langchain_core-0.2.9-py3-none-any.whl.metadata (6.0 kB)\n",
      "Collecting langsmith<0.2.0,>=0.1.0 (from langchain-community)\n",
      "  Downloading langsmith-0.1.81-py3-none-any.whl.metadata (13 kB)\n",
      "Requirement already satisfied: numpy<2,>=1 in /home/shashank/anaconda3/envs/mchatbot/lib/python3.8/site-packages (from langchain-community) (1.24.4)\n",
      "Requirement already satisfied: requests<3,>=2 in /home/shashank/anaconda3/envs/mchatbot/lib/python3.8/site-packages (from langchain-community) (2.32.3)\n",
      "Requirement already satisfied: tenacity<9.0.0,>=8.1.0 in /home/shashank/anaconda3/envs/mchatbot/lib/python3.8/site-packages (from langchain-community) (8.4.1)\n",
      "Requirement already satisfied: aiosignal>=1.1.2 in /home/shashank/anaconda3/envs/mchatbot/lib/python3.8/site-packages (from aiohttp<4.0.0,>=3.8.3->langchain-community) (1.3.1)\n",
      "Requirement already satisfied: attrs>=17.3.0 in /home/shashank/anaconda3/envs/mchatbot/lib/python3.8/site-packages (from aiohttp<4.0.0,>=3.8.3->langchain-community) (23.2.0)\n",
      "Requirement already satisfied: frozenlist>=1.1.1 in /home/shashank/anaconda3/envs/mchatbot/lib/python3.8/site-packages (from aiohttp<4.0.0,>=3.8.3->langchain-community) (1.4.1)\n",
      "Requirement already satisfied: multidict<7.0,>=4.5 in /home/shashank/anaconda3/envs/mchatbot/lib/python3.8/site-packages (from aiohttp<4.0.0,>=3.8.3->langchain-community) (6.0.5)\n",
      "Requirement already satisfied: yarl<2.0,>=1.0 in /home/shashank/anaconda3/envs/mchatbot/lib/python3.8/site-packages (from aiohttp<4.0.0,>=3.8.3->langchain-community) (1.9.4)\n",
      "Requirement already satisfied: async-timeout<5.0,>=4.0 in /home/shashank/anaconda3/envs/mchatbot/lib/python3.8/site-packages (from aiohttp<4.0.0,>=3.8.3->langchain-community) (4.0.3)\n",
      "Requirement already satisfied: marshmallow<4.0.0,>=3.18.0 in /home/shashank/anaconda3/envs/mchatbot/lib/python3.8/site-packages (from dataclasses-json<0.7,>=0.5.7->langchain-community) (3.21.3)\n",
      "Requirement already satisfied: typing-inspect<1,>=0.4.0 in /home/shashank/anaconda3/envs/mchatbot/lib/python3.8/site-packages (from dataclasses-json<0.7,>=0.5.7->langchain-community) (0.9.0)\n",
      "Collecting langchain-text-splitters<0.3.0,>=0.2.0 (from langchain<0.3.0,>=0.2.5->langchain-community)\n",
      "  Downloading langchain_text_splitters-0.2.1-py3-none-any.whl.metadata (2.2 kB)\n",
      "Requirement already satisfied: pydantic<3,>=1 in /home/shashank/anaconda3/envs/mchatbot/lib/python3.8/site-packages (from langchain<0.3.0,>=0.2.5->langchain-community) (1.10.17)\n",
      "Collecting jsonpatch<2.0,>=1.33 (from langchain-core<0.3.0,>=0.2.7->langchain-community)\n",
      "  Downloading jsonpatch-1.33-py2.py3-none-any.whl.metadata (3.0 kB)\n",
      "Requirement already satisfied: packaging<25,>=23.2 in /home/shashank/anaconda3/envs/mchatbot/lib/python3.8/site-packages (from langchain-core<0.3.0,>=0.2.7->langchain-community) (24.1)\n",
      "Collecting orjson<4.0.0,>=3.9.14 (from langsmith<0.2.0,>=0.1.0->langchain-community)\n",
      "  Downloading orjson-3.10.5-cp38-cp38-manylinux_2_17_x86_64.manylinux2014_x86_64.whl.metadata (49 kB)\n",
      "\u001b[2K     \u001b[90m━━━━━━━━━━━━━━━━━━━━━━━━━━━━━━━━━━━━━━━\u001b[0m \u001b[32m49.7/49.7 kB\u001b[0m \u001b[31m223.9 kB/s\u001b[0m eta \u001b[36m0:00:00\u001b[0ma \u001b[36m0:00:01\u001b[0m\n",
      "\u001b[?25hRequirement already satisfied: charset-normalizer<4,>=2 in /home/shashank/anaconda3/envs/mchatbot/lib/python3.8/site-packages (from requests<3,>=2->langchain-community) (3.3.2)\n",
      "Requirement already satisfied: idna<4,>=2.5 in /home/shashank/anaconda3/envs/mchatbot/lib/python3.8/site-packages (from requests<3,>=2->langchain-community) (3.7)\n",
      "Requirement already satisfied: urllib3<3,>=1.21.1 in /home/shashank/anaconda3/envs/mchatbot/lib/python3.8/site-packages (from requests<3,>=2->langchain-community) (2.2.2)\n",
      "Requirement already satisfied: certifi>=2017.4.17 in /home/shashank/anaconda3/envs/mchatbot/lib/python3.8/site-packages (from requests<3,>=2->langchain-community) (2024.6.2)\n",
      "Requirement already satisfied: typing-extensions>=4.6.0 in /home/shashank/anaconda3/envs/mchatbot/lib/python3.8/site-packages (from SQLAlchemy<3,>=1.4->langchain-community) (4.12.2)\n",
      "Requirement already satisfied: greenlet!=0.4.17 in /home/shashank/anaconda3/envs/mchatbot/lib/python3.8/site-packages (from SQLAlchemy<3,>=1.4->langchain-community) (3.0.3)\n",
      "Collecting jsonpointer>=1.9 (from jsonpatch<2.0,>=1.33->langchain-core<0.3.0,>=0.2.7->langchain-community)\n",
      "  Downloading jsonpointer-3.0.0-py2.py3-none-any.whl.metadata (2.3 kB)\n",
      "Requirement already satisfied: mypy-extensions>=0.3.0 in /home/shashank/anaconda3/envs/mchatbot/lib/python3.8/site-packages (from typing-inspect<1,>=0.4.0->dataclasses-json<0.7,>=0.5.7->langchain-community) (1.0.0)\n",
      "Downloading langchain_community-0.2.5-py3-none-any.whl (2.2 MB)\n",
      "\u001b[2K   \u001b[90m━━━━━━━━━━━━━━━━━━━━━━━━━━━━━━━━━━━━━━━━\u001b[0m \u001b[32m2.2/2.2 MB\u001b[0m \u001b[31m386.4 kB/s\u001b[0m eta \u001b[36m0:00:00\u001b[0m00:01\u001b[0m00:01\u001b[0m\n",
      "\u001b[?25hDownloading langchain-0.2.5-py3-none-any.whl (974 kB)\n",
      "\u001b[2K   \u001b[90m━━━━━━━━━━━━━━━━━━━━━━━━━━━━━━━━━━━━━━━━\u001b[0m \u001b[32m974.6/974.6 kB\u001b[0m \u001b[31m1.8 MB/s\u001b[0m eta \u001b[36m0:00:00\u001b[0m00:01\u001b[0m00:01\u001b[0m\n",
      "\u001b[?25hDownloading langchain_core-0.2.9-py3-none-any.whl (321 kB)\n",
      "\u001b[2K   \u001b[90m━━━━━━━━━━━━━━━━━━━━━━━━━━━━━━━━━━━━━━━━\u001b[0m \u001b[32m321.8/321.8 kB\u001b[0m \u001b[31m1.3 MB/s\u001b[0m eta \u001b[36m0:00:00\u001b[0m00:01\u001b[0m00:01\u001b[0m\n",
      "\u001b[?25hDownloading langsmith-0.1.81-py3-none-any.whl (127 kB)\n",
      "\u001b[2K   \u001b[90m━━━━━━━━━━━━━━━━━━━━━━━━━━━━━━━━━━━━━━━\u001b[0m \u001b[32m127.1/127.1 kB\u001b[0m \u001b[31m771.0 kB/s\u001b[0m eta \u001b[36m0:00:00\u001b[0m \u001b[36m0:00:01\u001b[0m\n",
      "\u001b[?25hDownloading jsonpatch-1.33-py2.py3-none-any.whl (12 kB)\n",
      "Downloading langchain_text_splitters-0.2.1-py3-none-any.whl (23 kB)\n",
      "Downloading orjson-3.10.5-cp38-cp38-manylinux_2_17_x86_64.manylinux2014_x86_64.whl (144 kB)\n",
      "\u001b[2K   \u001b[90m━━━━━━━━━━━━━━━━━━━━━━━━━━━━━━━━━━━━━━━\u001b[0m \u001b[32m144.6/144.6 kB\u001b[0m \u001b[31m776.1 kB/s\u001b[0m eta \u001b[36m0:00:00\u001b[0m0:01\u001b[0m00:01\u001b[0m\n",
      "\u001b[?25hDownloading jsonpointer-3.0.0-py2.py3-none-any.whl (7.6 kB)\n",
      "Installing collected packages: orjson, jsonpointer, langsmith, jsonpatch, langchain-core, langchain-text-splitters, langchain, langchain-community\n",
      "  Attempting uninstall: langchain\n",
      "    Found existing installation: langchain 0.0.225\n",
      "    Uninstalling langchain-0.0.225:\n",
      "      Successfully uninstalled langchain-0.0.225\n",
      "Successfully installed jsonpatch-1.33 jsonpointer-3.0.0 langchain-0.2.5 langchain-community-0.2.5 langchain-core-0.2.9 langchain-text-splitters-0.2.1 langsmith-0.1.81 orjson-3.10.5\n",
      "Note: you may need to restart the kernel to use updated packages.\n"
     ]
    }
   ],
   "source": [
    "pip install -U langchain-community"
   ]
  },
  {
   "cell_type": "code",
   "execution_count": 6,
   "metadata": {},
   "outputs": [
    {
     "name": "stderr",
     "output_type": "stream",
     "text": [
      "/home/shashank/anaconda3/envs/mchatbot/lib/python3.8/site-packages/pinecone/data/index.py:1: TqdmWarning: IProgress not found. Please update jupyter and ipywidgets. See https://ipywidgets.readthedocs.io/en/stable/user_install.html\n",
      "  from tqdm.autonotebook import tqdm\n"
     ]
    }
   ],
   "source": [
    "from langchain import PromptTemplate\n",
    "from langchain.chains import RetrievalQA\n",
    "from langchain.embeddings import HuggingFaceEmbeddings\n",
    "from langchain.vectorstores import Pinecone\n",
    "import pinecone\n",
    "from langchain.document_loaders import PyPDFLoader, DirectoryLoader\n",
    "from langchain.text_splitter import RecursiveCharacterTextSplitter\n",
    "from langchain.prompts import PromptTemplate\n",
    "from langchain.llms import CTransformers\n"
   ]
  },
  {
   "cell_type": "code",
   "execution_count": 7,
   "metadata": {},
   "outputs": [],
   "source": [
    "PINECONE_API_KEY = \"7245b484-719e-4857-a0f4-02bc06bced4b\"\n",
    "PINECONE_API_ENV = \"Serverless\""
   ]
  },
  {
   "cell_type": "code",
   "execution_count": 8,
   "metadata": {},
   "outputs": [],
   "source": [
    "#Extract data from the PDF\n",
    "def load_pdf(data):\n",
    "    loader = DirectoryLoader(data,\n",
    "                    glob=\"*.pdf\",\n",
    "                    loader_cls=PyPDFLoader)\n",
    "    \n",
    "    documents = loader.load()\n",
    "\n",
    "    return documents"
   ]
  },
  {
   "cell_type": "code",
   "execution_count": 9,
   "metadata": {},
   "outputs": [],
   "source": [
    "extracted_data = load_pdf(\"/home/shashank/Desktop/End-to-end-Medical-Chatbot-using-Llama2/data\")"
   ]
  },
  {
   "cell_type": "code",
   "execution_count": 10,
   "metadata": {},
   "outputs": [],
   "source": [
    "# extracted_data"
   ]
  },
  {
   "cell_type": "code",
   "execution_count": 10,
   "metadata": {},
   "outputs": [],
   "source": [
    "#Create text chunks\n",
    "def text_split(extracted_data):\n",
    "    text_splitter = RecursiveCharacterTextSplitter(chunk_size = 500, chunk_overlap = 20)\n",
    "    text_chunks = text_splitter.split_documents(extracted_data)\n",
    "\n",
    "    return text_chunks"
   ]
  },
  {
   "cell_type": "code",
   "execution_count": 11,
   "metadata": {},
   "outputs": [
    {
     "name": "stdout",
     "output_type": "stream",
     "text": [
      "length of my chunk: 7020\n"
     ]
    }
   ],
   "source": [
    "text_chunks = text_split(extracted_data)\n",
    "print(\"length of my chunk:\", len(text_chunks))"
   ]
  },
  {
   "cell_type": "code",
   "execution_count": 13,
   "metadata": {},
   "outputs": [],
   "source": [
    "# text_chunks"
   ]
  },
  {
   "cell_type": "code",
   "execution_count": 12,
   "metadata": {},
   "outputs": [],
   "source": [
    "#download embedding model\n",
    "def download_hugging_face_embeddings():\n",
    "    embeddings = HuggingFaceEmbeddings(model_name=\"sentence-transformers/all-MiniLM-L6-v2\")\n",
    "    return embeddings"
   ]
  },
  {
   "cell_type": "code",
   "execution_count": 13,
   "metadata": {},
   "outputs": [
    {
     "name": "stderr",
     "output_type": "stream",
     "text": [
      "/home/shashank/anaconda3/envs/mchatbot/lib/python3.8/site-packages/langchain_core/_api/deprecation.py:139: LangChainDeprecationWarning: The class `HuggingFaceEmbeddings` was deprecated in LangChain 0.2.2 and will be removed in 0.3.0. An updated version of the class exists in the langchain-huggingface package and should be used instead. To use it run `pip install -U langchain-huggingface` and import as `from langchain_huggingface import HuggingFaceEmbeddings`.\n",
      "  warn_deprecated(\n"
     ]
    }
   ],
   "source": [
    "embeddings = download_hugging_face_embeddings()"
   ]
  },
  {
   "cell_type": "code",
   "execution_count": 14,
   "metadata": {},
   "outputs": [
    {
     "data": {
      "text/plain": [
       "HuggingFaceEmbeddings(client=SentenceTransformer(\n",
       "  (0): Transformer({'max_seq_length': 256, 'do_lower_case': False}) with Transformer model: BertModel \n",
       "  (1): Pooling({'word_embedding_dimension': 384, 'pooling_mode_cls_token': False, 'pooling_mode_mean_tokens': True, 'pooling_mode_max_tokens': False, 'pooling_mode_mean_sqrt_len_tokens': False})\n",
       "  (2): Normalize()\n",
       "), model_name='sentence-transformers/all-MiniLM-L6-v2', cache_folder=None, model_kwargs={}, encode_kwargs={}, multi_process=False, show_progress=False)"
      ]
     },
     "execution_count": 14,
     "metadata": {},
     "output_type": "execute_result"
    }
   ],
   "source": [
    "embeddings"
   ]
  },
  {
   "cell_type": "code",
   "execution_count": 15,
   "metadata": {},
   "outputs": [
    {
     "name": "stdout",
     "output_type": "stream",
     "text": [
      "Length 384\n"
     ]
    }
   ],
   "source": [
    "query_result = embeddings.embed_query(\"Hello world\")\n",
    "print(\"Length\", len(query_result))"
   ]
  },
  {
   "cell_type": "code",
   "execution_count": 16,
   "metadata": {},
   "outputs": [
    {
     "data": {
      "text/plain": [
       "[-0.034477315843105316,\n",
       " 0.031023172661662102,\n",
       " 0.006734910886734724,\n",
       " 0.02610892429947853,\n",
       " -0.03936195746064186,\n",
       " -0.1603025197982788,\n",
       " 0.06692396104335785,\n",
       " -0.006441440898925066,\n",
       " -0.04745054617524147,\n",
       " 0.014758836477994919,\n",
       " 0.07087532430887222,\n",
       " 0.055527545511722565,\n",
       " 0.01919332519173622,\n",
       " -0.026251299306750298,\n",
       " -0.01010951679199934,\n",
       " -0.026940451934933662,\n",
       " 0.022307397797703743,\n",
       " -0.022226639091968536,\n",
       " -0.1496926248073578,\n",
       " -0.01749303936958313,\n",
       " 0.007676327601075172,\n",
       " 0.054352276027202606,\n",
       " 0.0032544792629778385,\n",
       " 0.03172592446208,\n",
       " -0.08462144434452057,\n",
       " -0.029405953362584114,\n",
       " 0.05159562826156616,\n",
       " 0.048124104738235474,\n",
       " -0.003314818488433957,\n",
       " -0.05827919766306877,\n",
       " 0.04196928068995476,\n",
       " 0.02221069671213627,\n",
       " 0.12818878889083862,\n",
       " -0.02233896404504776,\n",
       " -0.011656257323920727,\n",
       " 0.06292840093374252,\n",
       " -0.03287629410624504,\n",
       " -0.09122602641582489,\n",
       " -0.031175386160612106,\n",
       " 0.05269954726099968,\n",
       " 0.047034841030836105,\n",
       " -0.08420310169458389,\n",
       " -0.030056146904826164,\n",
       " -0.020744822919368744,\n",
       " 0.009517822414636612,\n",
       " -0.0037217941135168076,\n",
       " 0.007343323435634375,\n",
       " 0.03932430222630501,\n",
       " 0.09327404201030731,\n",
       " -0.003788547357544303,\n",
       " -0.0527421198785305,\n",
       " -0.05805818736553192,\n",
       " -0.006864348892122507,\n",
       " 0.005283175501972437,\n",
       " 0.08289303630590439,\n",
       " 0.019362740218639374,\n",
       " 0.0062845125794410706,\n",
       " -0.010330763645470142,\n",
       " 0.009032384492456913,\n",
       " -0.03768375888466835,\n",
       " -0.04520605504512787,\n",
       " 0.024016302078962326,\n",
       " -0.006944123189896345,\n",
       " 0.013491673395037651,\n",
       " 0.10005496442317963,\n",
       " -0.0716838389635086,\n",
       " -0.021695099771022797,\n",
       " 0.031618449836969376,\n",
       " -0.051634691655635834,\n",
       " -0.08224774152040482,\n",
       " -0.06569334864616394,\n",
       " -0.009895352646708488,\n",
       " 0.005816369317471981,\n",
       " 0.07355460524559021,\n",
       " -0.03405030816793442,\n",
       " 0.02488608844578266,\n",
       " 0.0144880386069417,\n",
       " 0.026457371190190315,\n",
       " 0.00965668074786663,\n",
       " 0.030217230319976807,\n",
       " 0.052803948521614075,\n",
       " -0.07535988092422485,\n",
       " 0.009897170588374138,\n",
       " 0.02983679436147213,\n",
       " 0.01755552366375923,\n",
       " 0.023091983050107956,\n",
       " 0.0019338511629030108,\n",
       " 0.0014002013485878706,\n",
       " -0.047175996005535126,\n",
       " -0.011194296181201935,\n",
       " -0.11420141905546188,\n",
       " -0.01981193758547306,\n",
       " 0.04026622697710991,\n",
       " 0.0021929896902292967,\n",
       " -0.07979217171669006,\n",
       " -0.025382349267601967,\n",
       " 0.09448302537202835,\n",
       " -0.028981097042560577,\n",
       " -0.14500251412391663,\n",
       " 0.23097744584083557,\n",
       " 0.027731193229556084,\n",
       " 0.032111503183841705,\n",
       " 0.031064989045262337,\n",
       " 0.04283284395933151,\n",
       " 0.06423782557249069,\n",
       " 0.03216312825679779,\n",
       " -0.0048767318949103355,\n",
       " 0.05569940432906151,\n",
       " -0.037532366812229156,\n",
       " -0.02150554209947586,\n",
       " -0.028342653065919876,\n",
       " -0.028846969828009605,\n",
       " 0.03835304453969002,\n",
       " -0.017468653619289398,\n",
       " 0.052485376596450806,\n",
       " -0.07487601786851883,\n",
       " -0.03125973790884018,\n",
       " 0.021841607987880707,\n",
       " -0.03989560902118683,\n",
       " -0.00858708843588829,\n",
       " 0.02695661038160324,\n",
       " -0.04849547520279884,\n",
       " 0.01146987359970808,\n",
       " 0.029618192464113235,\n",
       " -0.020572224631905556,\n",
       " 0.013103857636451721,\n",
       " 0.028833499178290367,\n",
       " -3.1941979827962646e-33,\n",
       " 0.064782053232193,\n",
       " -0.018130194395780563,\n",
       " 0.051789894700050354,\n",
       " 0.12198271602392197,\n",
       " 0.028780169785022736,\n",
       " 0.00872202217578888,\n",
       " -0.07052113115787506,\n",
       " -0.01690724864602089,\n",
       " 0.04073973000049591,\n",
       " 0.042116161435842514,\n",
       " 0.02544720284640789,\n",
       " 0.0357462614774704,\n",
       " -0.049144722521305084,\n",
       " 0.0021290285512804985,\n",
       " -0.01554651279002428,\n",
       " 0.05073057860136032,\n",
       " -0.048185352236032486,\n",
       " 0.03588060289621353,\n",
       " -0.004067079164087772,\n",
       " 0.10172474384307861,\n",
       " -0.05597004294395447,\n",
       " -0.010681044310331345,\n",
       " 0.011235790327191353,\n",
       " 0.09068652242422104,\n",
       " 0.004234463442116976,\n",
       " 0.03513864800333977,\n",
       " -0.009702890180051327,\n",
       " -0.09386510401964188,\n",
       " 0.09285558015108109,\n",
       " 0.008004914969205856,\n",
       " -0.0077053699642419815,\n",
       " -0.0520867295563221,\n",
       " -0.012587993405759335,\n",
       " 0.003266903106123209,\n",
       " 0.0060135433450341225,\n",
       " 0.007581562269479036,\n",
       " 0.010517186485230923,\n",
       " -0.08634558320045471,\n",
       " -0.06987879425287247,\n",
       " -0.0025338977575302124,\n",
       " -0.09097658097743988,\n",
       " 0.046887289732694626,\n",
       " 0.05207657441496849,\n",
       " 0.007193864788860083,\n",
       " 0.010903616435825825,\n",
       " -0.005229519214481115,\n",
       " 0.013937349431216717,\n",
       " 0.02196834608912468,\n",
       " 0.034208595752716064,\n",
       " 0.06022465601563454,\n",
       " 0.00011663910117931664,\n",
       " 0.014731943607330322,\n",
       " -0.07008921355009079,\n",
       " 0.028499074280261993,\n",
       " -0.027601728215813637,\n",
       " 0.010768409818410873,\n",
       " 0.03483093902468681,\n",
       " -0.022487878799438477,\n",
       " 0.009769014082849026,\n",
       " 0.07722783088684082,\n",
       " 0.021588340401649475,\n",
       " 0.11495620757341385,\n",
       " -0.0680011585354805,\n",
       " 0.023761006072163582,\n",
       " -0.015983907505869865,\n",
       " -0.017826922237873077,\n",
       " 0.06439490616321564,\n",
       " 0.032025691121816635,\n",
       " 0.050270214676856995,\n",
       " -0.005913726985454559,\n",
       " -0.033708009868860245,\n",
       " 0.01784026063978672,\n",
       " 0.016573289409279823,\n",
       " 0.06329652667045593,\n",
       " 0.034677159041166306,\n",
       " 0.04647349193692207,\n",
       " 0.09790614992380142,\n",
       " -0.006635485216975212,\n",
       " 0.025206999853253365,\n",
       " -0.07798829674720764,\n",
       " 0.016926441341638565,\n",
       " -0.0009458065615035594,\n",
       " 0.02247190847992897,\n",
       " -0.03825321048498154,\n",
       " 0.09570479393005371,\n",
       " -0.005350802093744278,\n",
       " 0.010469064116477966,\n",
       " -0.11524055153131485,\n",
       " -0.01326246652752161,\n",
       " -0.010709411464631557,\n",
       " -0.0831172838807106,\n",
       " 0.07327356189489365,\n",
       " 0.04939223453402519,\n",
       " -0.008994348347187042,\n",
       " -0.09584560245275497,\n",
       " 3.3661485617505796e-33,\n",
       " 0.12493188679218292,\n",
       " 0.0193497147411108,\n",
       " -0.05822574347257614,\n",
       " -0.03598818928003311,\n",
       " -0.05074671283364296,\n",
       " -0.045662373304367065,\n",
       " -0.08260336518287659,\n",
       " 0.14819476008415222,\n",
       " -0.08842120319604874,\n",
       " 0.060274429619312286,\n",
       " 0.05103014409542084,\n",
       " 0.010303168557584286,\n",
       " 0.14121422171592712,\n",
       " 0.030813805758953094,\n",
       " 0.06103309988975525,\n",
       " -0.05285128578543663,\n",
       " 0.1366489678621292,\n",
       " 0.009189908392727375,\n",
       " -0.017325174063444138,\n",
       " -0.012848656624555588,\n",
       " -0.007995286025106907,\n",
       " -0.05098004639148712,\n",
       " -0.052350640296936035,\n",
       " 0.0075930031016469,\n",
       " -0.01516627799719572,\n",
       " 0.016960322856903076,\n",
       " 0.021270515397191048,\n",
       " 0.020558062940835953,\n",
       " -0.12002810835838318,\n",
       " 0.014461780898272991,\n",
       " 0.026759887114167213,\n",
       " 0.025330688804388046,\n",
       " -0.042754627764225006,\n",
       " 0.006768502295017242,\n",
       " -0.014458559453487396,\n",
       " 0.04526197165250778,\n",
       " -0.09147651493549347,\n",
       " -0.019439129158854485,\n",
       " -0.01783343218266964,\n",
       " -0.054910145699977875,\n",
       " -0.052641090005636215,\n",
       " -0.010459056124091148,\n",
       " -0.052016016095876694,\n",
       " 0.020892005413770676,\n",
       " -0.0799703523516655,\n",
       " -0.012111276388168335,\n",
       " -0.05773146077990532,\n",
       " 0.02317822352051735,\n",
       " -0.008031714707612991,\n",
       " -0.02598928101360798,\n",
       " -0.07995672523975372,\n",
       " -0.02072886750102043,\n",
       " 0.0488177090883255,\n",
       " -0.02038913033902645,\n",
       " -0.04917661100625992,\n",
       " 0.014159657061100006,\n",
       " -0.06362202018499374,\n",
       " -0.0078073651529848576,\n",
       " 0.01643151044845581,\n",
       " -0.025682523846626282,\n",
       " 0.013381090946495533,\n",
       " 0.026248810812830925,\n",
       " 0.009978415444493294,\n",
       " 0.06322888284921646,\n",
       " 0.002672172849997878,\n",
       " -0.0065827565267682076,\n",
       " 0.016631929203867912,\n",
       " 0.032366491854190826,\n",
       " 0.03794245049357414,\n",
       " -0.03637605160474777,\n",
       " -0.006910907570272684,\n",
       " 0.00015963036275934428,\n",
       " -0.0016335484106093645,\n",
       " -0.027278142049908638,\n",
       " -0.028038054704666138,\n",
       " 0.04968145489692688,\n",
       " -0.02886715531349182,\n",
       " -0.002418066607788205,\n",
       " 0.014774911105632782,\n",
       " 0.009764587506651878,\n",
       " 0.005797612480819225,\n",
       " 0.013486200012266636,\n",
       " 0.005567916203290224,\n",
       " 0.037227071821689606,\n",
       " 0.00723249139264226,\n",
       " 0.0401562824845314,\n",
       " 0.0815032422542572,\n",
       " 0.07199165970087051,\n",
       " -0.013056200928986073,\n",
       " -0.042882002890110016,\n",
       " -0.0110112139955163,\n",
       " 0.00489781703799963,\n",
       " -0.009229743853211403,\n",
       " 0.03519149869680405,\n",
       " -0.05103500187397003,\n",
       " -1.571437735492509e-08,\n",
       " -0.08862444013357162,\n",
       " 0.02390933223068714,\n",
       " -0.016238756477832794,\n",
       " 0.0317004956305027,\n",
       " 0.02728424407541752,\n",
       " 0.052468810230493546,\n",
       " -0.04707096144556999,\n",
       " -0.058847490698099136,\n",
       " -0.0632081851363182,\n",
       " 0.04088858887553215,\n",
       " 0.04982799291610718,\n",
       " 0.10655169934034348,\n",
       " -0.07450234144926071,\n",
       " -0.012495442293584347,\n",
       " 0.01837068982422352,\n",
       " 0.03947409614920616,\n",
       " -0.024797888472676277,\n",
       " 0.014516280964016914,\n",
       " -0.03706915304064751,\n",
       " 0.020015738904476166,\n",
       " -4.8577076086075976e-05,\n",
       " 0.009866570122539997,\n",
       " 0.02483874000608921,\n",
       " -0.052458181977272034,\n",
       " 0.02931421808898449,\n",
       " -0.08719193190336227,\n",
       " -0.01449969969689846,\n",
       " 0.026019055396318436,\n",
       " -0.018746361136436462,\n",
       " -0.07620514184236526,\n",
       " 0.03504330292344093,\n",
       " 0.10363954305648804,\n",
       " -0.02805054374039173,\n",
       " 0.012718209996819496,\n",
       " -0.07632549852132797,\n",
       " -0.01865239255130291,\n",
       " 0.024976717308163643,\n",
       " 0.08144529908895493,\n",
       " 0.06875890493392944,\n",
       " -0.06405667215585709,\n",
       " -0.08389384299516678,\n",
       " 0.06136239320039749,\n",
       " -0.033545538783073425,\n",
       " -0.10615337640047073,\n",
       " -0.04008055850863457,\n",
       " 0.03253018110990524,\n",
       " 0.07662487775087357,\n",
       " -0.0730162188410759,\n",
       " 0.00033754485775716603,\n",
       " -0.040871694684028625,\n",
       " -0.07578853517770767,\n",
       " 0.027527635917067528,\n",
       " 0.0746254101395607,\n",
       " 0.01771724410355091,\n",
       " 0.09121844917535782,\n",
       " 0.11022017151117325,\n",
       " 0.0005697705782949924,\n",
       " 0.05146333947777748,\n",
       " -0.014551302418112755,\n",
       " 0.033232029527425766,\n",
       " 0.023792268708348274,\n",
       " -0.022889861837029457,\n",
       " 0.03893749788403511,\n",
       " 0.030206803232431412]"
      ]
     },
     "execution_count": 16,
     "metadata": {},
     "output_type": "execute_result"
    }
   ],
   "source": [
    "#query_result"
   ]
  },
  {
   "cell_type": "code",
   "execution_count": 18,
   "metadata": {},
   "outputs": [],
   "source": [
    "import os\n",
    "import pinecone\n",
    "# Set the environment variables for Pinecone API key and environment\n",
    "os.environ['PINECONE_API_KEY'] = \"7245b484-719e-4857-a0f4-02bc06bced4b\"\n",
    "os.environ['PINECONE_ENV'] = \"Serverless\""
   ]
  },
  {
   "cell_type": "code",
   "execution_count": 19,
   "metadata": {},
   "outputs": [],
   "source": [
    "\n",
    "\n",
    "pinecone_client=pinecone.Pinecone(api_key=PINECONE_API_KEY,environment=PINECONE_API_ENV)\n"
   ]
  },
  {
   "cell_type": "code",
   "execution_count": 26,
   "metadata": {},
   "outputs": [],
   "source": [
    "#from pinecone import Pinecone \n",
    "#from transformers import AutoTokenizer, AutoModel\n",
    "#import torch"
   ]
  },
  {
   "cell_type": "code",
   "execution_count": 21,
   "metadata": {},
   "outputs": [
    {
     "name": "stderr",
     "output_type": "stream",
     "text": [
      "huggingface/tokenizers: The current process just got forked, after parallelism has already been used. Disabling parallelism to avoid deadlocks...\n",
      "To disable this warning, you can either:\n",
      "\t- Avoid using `tokenizers` before the fork if possible\n",
      "\t- Explicitly set the environment variable TOKENIZERS_PARALLELISM=(true | false)\n"
     ]
    },
    {
     "name": "stdout",
     "output_type": "stream",
     "text": [
      "Collecting langchain-pinecone\n",
      "  Downloading langchain_pinecone-0.1.1-py3-none-any.whl.metadata (1.4 kB)\n",
      "Requirement already satisfied: langchain-core<0.3,>=0.1.52 in /home/shashank/anaconda3/envs/mchatbot/lib/python3.8/site-packages (from langchain-pinecone) (0.2.9)\n",
      "Requirement already satisfied: numpy<2,>=1 in /home/shashank/anaconda3/envs/mchatbot/lib/python3.8/site-packages (from langchain-pinecone) (1.24.4)\n",
      "Collecting pinecone-client<4.0.0,>=3.2.2 (from langchain-pinecone)\n",
      "  Downloading pinecone_client-3.2.2-py3-none-any.whl.metadata (16 kB)\n",
      "Requirement already satisfied: PyYAML>=5.3 in /home/shashank/anaconda3/envs/mchatbot/lib/python3.8/site-packages (from langchain-core<0.3,>=0.1.52->langchain-pinecone) (6.0.1)\n",
      "Requirement already satisfied: jsonpatch<2.0,>=1.33 in /home/shashank/anaconda3/envs/mchatbot/lib/python3.8/site-packages (from langchain-core<0.3,>=0.1.52->langchain-pinecone) (1.33)\n",
      "Requirement already satisfied: langsmith<0.2.0,>=0.1.75 in /home/shashank/anaconda3/envs/mchatbot/lib/python3.8/site-packages (from langchain-core<0.3,>=0.1.52->langchain-pinecone) (0.1.81)\n",
      "Requirement already satisfied: packaging<25,>=23.2 in /home/shashank/anaconda3/envs/mchatbot/lib/python3.8/site-packages (from langchain-core<0.3,>=0.1.52->langchain-pinecone) (24.1)\n",
      "Requirement already satisfied: pydantic<3,>=1 in /home/shashank/anaconda3/envs/mchatbot/lib/python3.8/site-packages (from langchain-core<0.3,>=0.1.52->langchain-pinecone) (1.10.17)\n",
      "Requirement already satisfied: tenacity!=8.4.0,<9.0.0,>=8.1.0 in /home/shashank/anaconda3/envs/mchatbot/lib/python3.8/site-packages (from langchain-core<0.3,>=0.1.52->langchain-pinecone) (8.4.1)\n",
      "Requirement already satisfied: certifi>=2019.11.17 in /home/shashank/anaconda3/envs/mchatbot/lib/python3.8/site-packages (from pinecone-client<4.0.0,>=3.2.2->langchain-pinecone) (2024.6.2)\n",
      "Requirement already satisfied: tqdm>=4.64.1 in /home/shashank/anaconda3/envs/mchatbot/lib/python3.8/site-packages (from pinecone-client<4.0.0,>=3.2.2->langchain-pinecone) (4.66.4)\n",
      "Requirement already satisfied: typing-extensions>=3.7.4 in /home/shashank/anaconda3/envs/mchatbot/lib/python3.8/site-packages (from pinecone-client<4.0.0,>=3.2.2->langchain-pinecone) (4.12.2)\n",
      "Requirement already satisfied: urllib3>=1.26.0 in /home/shashank/anaconda3/envs/mchatbot/lib/python3.8/site-packages (from pinecone-client<4.0.0,>=3.2.2->langchain-pinecone) (2.2.2)\n",
      "Requirement already satisfied: jsonpointer>=1.9 in /home/shashank/anaconda3/envs/mchatbot/lib/python3.8/site-packages (from jsonpatch<2.0,>=1.33->langchain-core<0.3,>=0.1.52->langchain-pinecone) (3.0.0)\n",
      "Requirement already satisfied: orjson<4.0.0,>=3.9.14 in /home/shashank/anaconda3/envs/mchatbot/lib/python3.8/site-packages (from langsmith<0.2.0,>=0.1.75->langchain-core<0.3,>=0.1.52->langchain-pinecone) (3.10.5)\n",
      "Requirement already satisfied: requests<3,>=2 in /home/shashank/anaconda3/envs/mchatbot/lib/python3.8/site-packages (from langsmith<0.2.0,>=0.1.75->langchain-core<0.3,>=0.1.52->langchain-pinecone) (2.32.3)\n",
      "Requirement already satisfied: charset-normalizer<4,>=2 in /home/shashank/anaconda3/envs/mchatbot/lib/python3.8/site-packages (from requests<3,>=2->langsmith<0.2.0,>=0.1.75->langchain-core<0.3,>=0.1.52->langchain-pinecone) (3.3.2)\n",
      "Requirement already satisfied: idna<4,>=2.5 in /home/shashank/anaconda3/envs/mchatbot/lib/python3.8/site-packages (from requests<3,>=2->langsmith<0.2.0,>=0.1.75->langchain-core<0.3,>=0.1.52->langchain-pinecone) (3.7)\n",
      "Downloading langchain_pinecone-0.1.1-py3-none-any.whl (8.4 kB)\n",
      "Downloading pinecone_client-3.2.2-py3-none-any.whl (215 kB)\n",
      "\u001b[2K   \u001b[90m━━━━━━━━━━━━━━━━━━━━━━━━━━━━━━━━━━━━━━━━\u001b[0m \u001b[32m215.9/215.9 kB\u001b[0m \u001b[31m1.6 MB/s\u001b[0m eta \u001b[36m0:00:00\u001b[0m00:01\u001b[0m00:01\u001b[0m\n",
      "\u001b[?25hInstalling collected packages: pinecone-client, langchain-pinecone\n",
      "  Attempting uninstall: pinecone-client\n",
      "    Found existing installation: pinecone-client 4.1.1\n",
      "    Uninstalling pinecone-client-4.1.1:\n",
      "      Successfully uninstalled pinecone-client-4.1.1\n",
      "Successfully installed langchain-pinecone-0.1.1 pinecone-client-3.2.2\n",
      "Note: you may need to restart the kernel to use updated packages.\n"
     ]
    }
   ],
   "source": [
    "#pip install --upgrade langchain-pinecone"
   ]
  },
  {
   "cell_type": "code",
   "execution_count": 24,
   "metadata": {},
   "outputs": [],
   "source": [
    "index_name = \"mchatbot\"\n",
    "docsearch=Pinecone.from_texts([t.page_content for t in text_chunks], embeddings, index_name=index_name)"
   ]
  },
  {
   "cell_type": "code",
   "execution_count": 32,
   "metadata": {},
   "outputs": [
    {
     "ename": "TypeError",
     "evalue": "__init__() missing 1 required positional argument: 'host'",
     "output_type": "error",
     "traceback": [
      "\u001b[0;31m---------------------------------------------------------------------------\u001b[0m",
      "\u001b[0;31mTypeError\u001b[0m                                 Traceback (most recent call last)",
      "Cell \u001b[0;32mIn[32], line 3\u001b[0m\n\u001b[1;32m      1\u001b[0m \u001b[38;5;66;03m# Create the index name and initialize Pinecone index directly\u001b[39;00m\n\u001b[1;32m      2\u001b[0m index_name \u001b[38;5;241m=\u001b[39m \u001b[38;5;124m\"\u001b[39m\u001b[38;5;124mmchatbot\u001b[39m\u001b[38;5;124m\"\u001b[39m\n\u001b[0;32m----> 3\u001b[0m docsearch \u001b[38;5;241m=\u001b[39m \u001b[43mpinecone\u001b[49m\u001b[38;5;241;43m.\u001b[39;49m\u001b[43mIndex\u001b[49m\u001b[43m(\u001b[49m\u001b[43mindex_name\u001b[49m\u001b[43m)\u001b[49m\u001b[38;5;241m.\u001b[39mupsert([(t\u001b[38;5;241m.\u001b[39mpage_content, embeddings\u001b[38;5;241m.\u001b[39membed_text(t\u001b[38;5;241m.\u001b[39mpage_content)) \u001b[38;5;28;01mfor\u001b[39;00m t \u001b[38;5;129;01min\u001b[39;00m text_chunks])\n",
      "\u001b[0;31mTypeError\u001b[0m: __init__() missing 1 required positional argument: 'host'"
     ]
    }
   ],
   "source": [
    "# initialize Pinecone index directly\n",
    "\n",
    "#docsearch = pinecone.Index(index_name).upsert([(t.page_content, embeddings.embed_text(t.page_content)) for t in text_chunks])"
   ]
  },
  {
   "cell_type": "code",
   "execution_count": 25,
   "metadata": {},
   "outputs": [
    {
     "name": "stdout",
     "output_type": "stream",
     "text": [
      "Result [Document(page_content=\"GALE ENCYCLOPEDIA OF MEDICINE 2 117Allergies\\nAllergic rhinitis is commonly triggered by\\nexposure to household dust, animal fur,or pollen. The foreign substance thattriggers an allergic reaction is calledan allergen.\\nThe presence of an allergen causes the\\nbody's lymphocytes to begin producingIgE antibodies. The lymphocytes of an allergy sufferer produce an unusuallylarge amount of IgE.\\nIgE molecules attach to mast\\ncells, which contain histamine.HistaminePollen grains\\nLymphocyte\\nFIRST EXPOSURE\"), Document(page_content=\"GALE ENCYCLOPEDIA OF MEDICINE 2 117Allergies\\nAllergic rhinitis is commonly triggered by\\nexposure to household dust, animal fur,or pollen. The foreign substance thattriggers an allergic reaction is calledan allergen.\\nThe presence of an allergen causes the\\nbody's lymphocytes to begin producingIgE antibodies. The lymphocytes of an allergy sufferer produce an unusuallylarge amount of IgE.\\nIgE molecules attach to mast\\ncells, which contain histamine.HistaminePollen grains\\nLymphocyte\\nFIRST EXPOSURE\"), Document(page_content='allergens are the following:\\n• plant pollens\\n• animal fur and dander\\n• body parts from house mites (microscopic creatures\\nfound in all houses)\\n• house dust• mold spores• cigarette smoke• solvents• cleaners\\nCommon food allergens include the following:\\n• nuts, especially peanuts, walnuts, and brazil nuts\\n• fish, mollusks, and shellfish• eggs• wheat• milk• food additives and preservatives\\nThe following types of drugs commonly cause aller-\\ngic reactions:\\n• penicillin or other antibiotics')]\n"
     ]
    }
   ],
   "source": [
    "#If we already have an index we can load it like this\n",
    "docsearch=Pinecone.from_existing_index(index_name, embeddings)\n",
    "\n",
    "query = \"What are Allergies\"\n",
    "\n",
    "docs=docsearch.similarity_search(query, k=3)\n",
    "\n",
    "print(\"Result\", docs)"
   ]
  },
  {
   "cell_type": "code",
   "execution_count": 26,
   "metadata": {},
   "outputs": [],
   "source": [
    "prompt_template=\"\"\"\n",
    "Use the following pieces of information to answer the user's question.\n",
    "If you don't know the answer, just say that you don't know, don't try to make up an answer.\n",
    "\n",
    "Context: {context}\n",
    "Question: {question}\n",
    "\n",
    "Only return the helpful answer below and nothing else.\n",
    "Helpful answer:\n",
    "\"\"\""
   ]
  },
  {
   "cell_type": "code",
   "execution_count": 27,
   "metadata": {},
   "outputs": [],
   "source": [
    "PROMPT=PromptTemplate(template=prompt_template, input_variables=[\"context\", \"question\"])\n",
    "chain_type_kwargs={\"prompt\": PROMPT}"
   ]
  },
  {
   "cell_type": "code",
   "execution_count": 29,
   "metadata": {},
   "outputs": [],
   "source": [
    "llm=CTransformers(model=\"/home/shashank/Desktop/End-to-end-Medical-Chatbot-using-Llama2/model/llama-2-7b-chat.ggmlv3.q4_0.bin\",\n",
    "                  model_type=\"llama\",\n",
    "                  config={'max_new_tokens':512,\n",
    "                          'temperature':0.8})"
   ]
  },
  {
   "cell_type": "code",
   "execution_count": 30,
   "metadata": {},
   "outputs": [],
   "source": [
    "qa=RetrievalQA.from_chain_type(\n",
    "    llm=llm, \n",
    "    chain_type=\"stuff\", \n",
    "    retriever=docsearch.as_retriever(search_kwargs={'k': 2}),\n",
    "    return_source_documents=True, \n",
    "    chain_type_kwargs=chain_type_kwargs)"
   ]
  },
  {
   "cell_type": "code",
   "execution_count": 31,
   "metadata": {},
   "outputs": [
    {
     "name": "stderr",
     "output_type": "stream",
     "text": [
      "/home/shashank/anaconda3/envs/mchatbot/lib/python3.8/site-packages/langchain_core/_api/deprecation.py:139: LangChainDeprecationWarning: The method `Chain.__call__` was deprecated in langchain 0.1.0 and will be removed in 0.3.0. Use invoke instead.\n",
      "  warn_deprecated(\n"
     ]
    },
    {
     "name": "stdout",
     "output_type": "stream",
     "text": [
      "Response :  Fever is a sign that your body is fighting an infection. The term \"undulant fever\" refers to a type of fever that causes waves or undulations in the body's temperature readings. This can be caused by a variety of infections, including bacterial and viral infections. It's important to seek medical attention if you or someone you know is experiencing a high fever, especially if it lasts for an extended period of time or is accompanied by other concerning symptoms such as difficulty breathing, chest pain, or confusion.\n",
      "Response :  Red blood cell indices are measurements that provide information about the size, shape, and function of red blood cells (RBCs). These indices include:\n",
      "\n",
      "1. Mean corpuscular volume (MCV): Refers to the average volume of a single red blood cell.\n",
      "2. Mean corpuscular hemoglobin (MCH): Refers to the average amount of hemoglobin in a red blood cell.\n",
      "3. Mean corpuscular hemoglobin concentration (MCHC): Refers to the average concentration of hemoglobin in a red blood cell.\n",
      "4. Red blood cell distribution width (RDW): Refers to the range of sizes of red blood cells in a given population.\n",
      "5. Hemoglobin A2 (HbA2): Refers to the percentage of hemoglobin in red blood cells that is not the main form of hemoglobin (hemoglobin A).\n",
      "6. Fetal hemoglobin (FGA): Refers to the percentage of hemoglobin in red blood cells that is from fetal hemoglobin.\n",
      "7. Absolute neutrophil count (ANC): Refers to the number of neutrophils in a given volume of blood.\n",
      "8. Platelet count: Refers to the number of platelets in a given volume of blood.\n",
      "\n",
      "Please let me know if you need anything else!\n"
     ]
    }
   ],
   "source": [
    "while True:\n",
    "    user_input=input(f\"Input Prompt:\")\n",
    "    result=qa({\"query\": user_input})\n",
    "    print(\"Response : \", result[\"result\"])"
   ]
  }
 ],
 "metadata": {
  "kernelspec": {
   "display_name": "Python 3.8.19 ('mchatbot')",
   "language": "python",
   "name": "python3"
  },
  "language_info": {
   "codemirror_mode": {
    "name": "ipython",
    "version": 3
   },
   "file_extension": ".py",
   "mimetype": "text/x-python",
   "name": "python",
   "nbconvert_exporter": "python",
   "pygments_lexer": "ipython3",
   "version": "3.8.19"
  },
  "vscode": {
   "interpreter": {
    "hash": "c9859570e85f48ebc4c64b99649349e816e9ce0e63ed81454a005a0f057e46b5"
   }
  }
 },
 "nbformat": 4,
 "nbformat_minor": 2
}
